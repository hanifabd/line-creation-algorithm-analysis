{
 "cells": [
  {
   "cell_type": "code",
   "execution_count": 1,
   "metadata": {},
   "outputs": [
    {
     "name": "stdout",
     "output_type": "stream",
     "text": [
      "( 3 , 2 )\n",
      "\n",
      "( 4 , 3 )\n",
      "\n",
      "( 5 , 3 )\n",
      "\n",
      "( 6 , 3 )\n",
      "\n",
      "( 7 , 3 )\n",
      "\n",
      "( 8 , 4 )\n",
      "\n",
      "( 9 , 4 )\n",
      "\n",
      "( 10 , 4 )\n",
      "\n",
      "( 11 , 4 )\n",
      "\n",
      "( 12 , 5 )\n",
      "\n",
      "( 13 , 5 )\n",
      "\n",
      "( 14 , 5 )\n",
      "\n",
      "( 15 , 5 )\n",
      "\n"
     ]
    }
   ],
   "source": [
    "# Python 3 program for Bresenham’s Line Generation  \n",
    "# Assumptions :  \n",
    "# 1) Line is drawn from left to right.  \n",
    "# 2) x1 < x2 and y1 < y2  \n",
    "# 3) Slope of the line is between 0 and 1.  \n",
    "# We draw a line from lower left to upper  \n",
    "# right.  \n",
    "  \n",
    "  \n",
    "# function for line generation  \n",
    "def bresenham(x1,y1,x2, y2):  \n",
    "  \n",
    "    m_new = 2 * (y2 - y1)  \n",
    "    slope_error_new = m_new - (x2 - x1) \n",
    "  \n",
    "    y=y1 \n",
    "    for x in range(x1,x2+1):  \n",
    "      \n",
    "        print(\"(\",x ,\",\",y ,\")\\n\")  \n",
    "  \n",
    "        # Add slope to increment angle formed  \n",
    "        slope_error_new =slope_error_new + m_new  \n",
    "  \n",
    "        # Slope error reached limit, time to  \n",
    "        # increment y and update slope error.  \n",
    "        if (slope_error_new >= 0):  \n",
    "            y=y+1\n",
    "            slope_error_new =slope_error_new - 2 * (x2 - x1)  \n",
    "          \n",
    "      \n",
    "  \n",
    "  \n",
    "# driver function  \n",
    "if __name__=='__main__': \n",
    "    x1 = 3\n",
    "    y1 = 2\n",
    "    x2 = 15\n",
    "    y2 = 5\n",
    "    bresenham(x1, y1, x2, y2)  \n",
    "  \n",
    "#This code is contributed by ash264 "
   ]
  },
  {
   "cell_type": "code",
   "execution_count": null,
   "metadata": {},
   "outputs": [],
   "source": []
  }
 ],
 "metadata": {
  "kernelspec": {
   "display_name": "Python 3",
   "language": "python",
   "name": "python3"
  },
  "language_info": {
   "codemirror_mode": {
    "name": "ipython",
    "version": 3
   },
   "file_extension": ".py",
   "mimetype": "text/x-python",
   "name": "python",
   "nbconvert_exporter": "python",
   "pygments_lexer": "ipython3",
   "version": "3.7.3"
  }
 },
 "nbformat": 4,
 "nbformat_minor": 2
}
